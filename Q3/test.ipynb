{
 "cells": [
  {
   "cell_type": "code",
   "execution_count": 1,
   "id": "bb60b4a9",
   "metadata": {},
   "outputs": [
    {
     "name": "stderr",
     "output_type": "stream",
     "text": [
      "c:\\Users\\User\\anaconda3\\envs\\DRL\\lib\\site-packages\\gym\\envs\\registration.py:727: DeprecationWarning: The package name gym_minigrid has been deprecated in favor of minigrid. Please uninstall gym_minigrid and install minigrid with `pip install minigrid`. Future releases will be maintained under the new package name minigrid.\n",
      "  fn()\n",
      "c:\\Users\\User\\anaconda3\\envs\\DRL\\lib\\site-packages\\pygame\\pkgdata.py:25: DeprecationWarning: pkg_resources is deprecated as an API. See https://setuptools.pypa.io/en/latest/pkg_resources.html\n",
      "  from pkg_resources import resource_stream, resource_exists\n"
     ]
    }
   ],
   "source": [
    "import gymnasium as gym\n",
    "import torch\n",
    "import torch.nn as nn\n",
    "import torch.nn.functional as F\n",
    "import torch.optim as optim\n",
    "import numpy as np\n",
    "import matplotlib.pyplot as plt\n",
    "from torch.distributions import Normal, TransformedDistribution\n",
    "from torch.distributions.transforms import TanhTransform, AffineTransform\n",
    "import imageio\n",
    "from dmc import make_dmc_env\n",
    "from collections import deque\n",
    "import os\n",
    "import random\n",
    "import time"
   ]
  },
  {
   "cell_type": "code",
   "execution_count": 2,
   "id": "3d6955f0",
   "metadata": {},
   "outputs": [],
   "source": [
    "import student_agent"
   ]
  },
  {
   "cell_type": "code",
   "execution_count": 3,
   "id": "47d3742d",
   "metadata": {},
   "outputs": [
    {
     "name": "stdout",
     "output_type": "stream",
     "text": [
      "Box(-1.0, 1.0, (21,), float64)\n",
      "Box(-inf, inf, (67,), float64)\n"
     ]
    }
   ],
   "source": [
    "env_name = \"humanoid-walk\"\n",
    "env = make_dmc_env(env_name, np.random.randint(0, 1000000), flatten=True, use_pixels=False)\n",
    "print(env.action_space)\n",
    "print(env.observation_space)\n",
    "input_dim = env.observation_space.shape[0]\n",
    "output_dim = env.action_space.shape[0]"
   ]
  },
  {
   "cell_type": "code",
   "execution_count": 4,
   "id": "6484b0bc",
   "metadata": {},
   "outputs": [],
   "source": [
    "agent = student_agent.Agent()"
   ]
  },
  {
   "cell_type": "code",
   "execution_count": null,
   "id": "b24c8e25",
   "metadata": {},
   "outputs": [
    {
     "name": "stdout",
     "output_type": "stream",
     "text": [
      "Average total reward:  785.3163646251676\n"
     ]
    }
   ],
   "source": [
    "avg_total_reward = 0\n",
    "for _ in range(100):\n",
    "    state, _ = env.reset()\n",
    "    done = False\n",
    "    episode_reward = 0\n",
    "    while not done:\n",
    "        action = agent.act(state)\n",
    "        next_state, reward, terminated, truncated, info = env.step(action)\n",
    "        done = terminated or truncated\n",
    "        episode_reward += reward\n",
    "        state = next_state\n",
    "    print(\"Episode reward: \", episode_reward )\n",
    "    avg_total_reward += episode_reward\n",
    "print(\"Average total reward: \", avg_total_reward / 100)\n"
   ]
  }
 ],
 "metadata": {
  "kernelspec": {
   "display_name": "DRL",
   "language": "python",
   "name": "python3"
  },
  "language_info": {
   "codemirror_mode": {
    "name": "ipython",
    "version": 3
   },
   "file_extension": ".py",
   "mimetype": "text/x-python",
   "name": "python",
   "nbconvert_exporter": "python",
   "pygments_lexer": "ipython3",
   "version": "3.10.16"
  }
 },
 "nbformat": 4,
 "nbformat_minor": 5
}
