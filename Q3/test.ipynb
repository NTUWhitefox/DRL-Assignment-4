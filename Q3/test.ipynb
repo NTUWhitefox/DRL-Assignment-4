{
 "cells": [
  {
   "cell_type": "code",
   "execution_count": 1,
   "id": "bb60b4a9",
   "metadata": {},
   "outputs": [
    {
     "name": "stderr",
     "output_type": "stream",
     "text": [
      "c:\\Users\\User\\anaconda3\\envs\\DRL\\lib\\site-packages\\gym\\envs\\registration.py:727: DeprecationWarning: The package name gym_minigrid has been deprecated in favor of minigrid. Please uninstall gym_minigrid and install minigrid with `pip install minigrid`. Future releases will be maintained under the new package name minigrid.\n",
      "  fn()\n",
      "c:\\Users\\User\\anaconda3\\envs\\DRL\\lib\\site-packages\\pygame\\pkgdata.py:25: DeprecationWarning: pkg_resources is deprecated as an API. See https://setuptools.pypa.io/en/latest/pkg_resources.html\n",
      "  from pkg_resources import resource_stream, resource_exists\n"
     ]
    }
   ],
   "source": [
    "import gymnasium as gym\n",
    "import torch\n",
    "import torch.nn as nn\n",
    "import torch.nn.functional as F\n",
    "import torch.optim as optim\n",
    "import numpy as np\n",
    "import matplotlib.pyplot as plt\n",
    "from torch.distributions import Normal, TransformedDistribution\n",
    "from torch.distributions.transforms import TanhTransform, AffineTransform\n",
    "import imageio\n",
    "from dmc import make_dmc_env\n",
    "from collections import deque\n",
    "import os\n",
    "import random\n",
    "import time"
   ]
  },
  {
   "cell_type": "code",
   "execution_count": 4,
   "id": "3d6955f0",
   "metadata": {},
   "outputs": [],
   "source": [
    "import student_agent"
   ]
  },
  {
   "cell_type": "code",
   "execution_count": 2,
   "id": "47d3742d",
   "metadata": {},
   "outputs": [
    {
     "name": "stdout",
     "output_type": "stream",
     "text": [
      "Box(-1.0, 1.0, (21,), float64)\n",
      "Box(-inf, inf, (67,), float64)\n"
     ]
    }
   ],
   "source": [
    "env_name = \"humanoid-walk\"\n",
    "env = make_dmc_env(env_name, np.random.randint(0, 1000000), flatten=True, use_pixels=False)\n",
    "print(env.action_space)\n",
    "print(env.observation_space)\n",
    "input_dim = env.observation_space.shape[0]\n",
    "output_dim = env.action_space.shape[0]"
   ]
  },
  {
   "cell_type": "code",
   "execution_count": 5,
   "id": "6484b0bc",
   "metadata": {},
   "outputs": [],
   "source": [
    "agent = student_agent.Agent()"
   ]
  },
  {
   "cell_type": "code",
   "execution_count": 6,
   "id": "b24c8e25",
   "metadata": {},
   "outputs": [
    {
     "name": "stdout",
     "output_type": "stream",
     "text": [
      "Episode reward:  842.7959310391827\n",
      "Episode reward:  835.6283968697821\n",
      "Episode reward:  844.7240386678204\n",
      "Episode reward:  858.286468269492\n",
      "Episode reward:  731.1431828459389\n",
      "Episode reward:  843.4552851173474\n",
      "Episode reward:  843.6250477574936\n",
      "Episode reward:  856.8798795000422\n",
      "Episode reward:  842.7595762611414\n",
      "Episode reward:  836.5025215562745\n",
      "Episode reward:  728.0304578341784\n",
      "Episode reward:  1.2863482371198673\n",
      "Episode reward:  826.1341948852314\n",
      "Episode reward:  846.2867574049925\n",
      "Episode reward:  842.4562550635189\n",
      "Episode reward:  852.3354780427285\n",
      "Episode reward:  846.572439982609\n",
      "Episode reward:  852.7124310446367\n",
      "Episode reward:  841.9203335524234\n",
      "Episode reward:  849.9320472082222\n",
      "Episode reward:  848.9414742201942\n",
      "Episode reward:  735.8801179373867\n",
      "Episode reward:  839.6172754813326\n",
      "Episode reward:  766.5491659825736\n",
      "Episode reward:  770.5775584130291\n",
      "Episode reward:  856.2703776186735\n",
      "Episode reward:  829.6737023217663\n",
      "Episode reward:  800.8237590501094\n",
      "Episode reward:  779.5848789257485\n",
      "Episode reward:  848.5835416363857\n",
      "Episode reward:  852.9267467877792\n",
      "Episode reward:  822.17093096313\n",
      "Episode reward:  805.5698912632339\n",
      "Episode reward:  828.1078709508324\n",
      "Episode reward:  835.9024177135022\n",
      "Episode reward:  844.4432903695599\n",
      "Episode reward:  786.6399243490735\n",
      "Episode reward:  844.3941230012213\n",
      "Episode reward:  813.9353080531545\n",
      "Episode reward:  843.2736568848497\n",
      "Episode reward:  831.5484748971701\n",
      "Episode reward:  798.169412050121\n",
      "Episode reward:  818.5240909926222\n",
      "Episode reward:  726.6585476601588\n",
      "Episode reward:  841.8434757073891\n",
      "Episode reward:  825.8139571234466\n",
      "Episode reward:  832.0429244463494\n",
      "Episode reward:  798.7597706099015\n",
      "Episode reward:  857.6531742609017\n",
      "Episode reward:  830.3850973967711\n",
      "Episode reward:  859.935255413896\n",
      "Episode reward:  773.285460351401\n",
      "Episode reward:  1.3748950813593015\n",
      "Episode reward:  799.7271749623413\n",
      "Episode reward:  855.6128263539889\n",
      "Episode reward:  857.7511248801965\n",
      "Episode reward:  835.5088696195251\n",
      "Episode reward:  805.1615868791553\n",
      "Episode reward:  842.4724678409048\n",
      "Episode reward:  838.8620518853777\n",
      "Episode reward:  850.9905704520037\n",
      "Episode reward:  848.7837183466835\n",
      "Episode reward:  827.2102098498741\n",
      "Episode reward:  821.9471168880721\n",
      "Episode reward:  855.7404384530662\n",
      "Episode reward:  843.326394586679\n",
      "Episode reward:  851.671279974522\n",
      "Episode reward:  855.679417142141\n",
      "Episode reward:  836.5423895405175\n",
      "Episode reward:  868.326526672764\n",
      "Episode reward:  856.8536829351003\n",
      "Episode reward:  848.2197981284772\n",
      "Episode reward:  815.3483200302475\n",
      "Episode reward:  842.9729111730776\n",
      "Episode reward:  784.7222204320052\n",
      "Episode reward:  846.8658636637059\n",
      "Episode reward:  818.2448085128309\n",
      "Episode reward:  849.7547309539535\n",
      "Episode reward:  848.9296068541558\n",
      "Episode reward:  829.7566484308917\n",
      "Episode reward:  780.9605014144923\n",
      "Episode reward:  870.836638606802\n",
      "Episode reward:  825.8211587311648\n",
      "Episode reward:  859.5859684305449\n",
      "Episode reward:  843.1593595666529\n",
      "Episode reward:  795.4769013699844\n",
      "Episode reward:  844.5758010175405\n",
      "Episode reward:  852.6323813449706\n",
      "Episode reward:  796.7914562840992\n",
      "Episode reward:  853.646039565375\n",
      "Episode reward:  841.4755718288613\n",
      "Episode reward:  728.5051457105503\n",
      "Episode reward:  856.8860029076641\n",
      "Episode reward:  871.3129860881965\n",
      "Episode reward:  852.4816405951873\n",
      "Episode reward:  815.7460852931197\n",
      "Episode reward:  859.4749245943297\n",
      "Episode reward:  798.7443811581443\n",
      "Episode reward:  834.1201713925434\n",
      "Episode reward:  854.8036329146995\n",
      "692.1533402329402\n"
     ]
    }
   ],
   "source": [
    "rewards = []\n",
    "for _ in range(100):\n",
    "    state, _ = env.reset()\n",
    "    done = False\n",
    "    episode_reward = 0\n",
    "    while not done:\n",
    "        action = agent.act(state)\n",
    "        next_state, reward, terminated, truncated, info = env.step(action)\n",
    "        done = terminated or truncated\n",
    "        episode_reward += reward\n",
    "        state = next_state\n",
    "    print(\"Episode reward: \", episode_reward)\n",
    "    rewards.append(episode_reward)\n",
    "print(np.mean(rewards) - np.std(rewards))\n"
   ]
  }
 ],
 "metadata": {
  "kernelspec": {
   "display_name": "DRL",
   "language": "python",
   "name": "python3"
  },
  "language_info": {
   "codemirror_mode": {
    "name": "ipython",
    "version": 3
   },
   "file_extension": ".py",
   "mimetype": "text/x-python",
   "name": "python",
   "nbconvert_exporter": "python",
   "pygments_lexer": "ipython3",
   "version": "3.10.16"
  }
 },
 "nbformat": 4,
 "nbformat_minor": 5
}
